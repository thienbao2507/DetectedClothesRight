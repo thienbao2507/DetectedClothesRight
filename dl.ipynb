{
 "cells": [
  {
   "cell_type": "code",
   "execution_count": 2,
   "id": "5ebf226d",
   "metadata": {},
   "outputs": [
    {
     "name": "stdout",
     "output_type": "stream",
     "text": [
      "Collecting albumentations\n",
      "  Downloading albumentations-2.0.8-py3-none-any.whl (369 kB)\n",
      "Collecting albucore==0.0.24\n",
      "  Downloading albucore-0.0.24-py3-none-any.whl (15 kB)\n",
      "Requirement already satisfied: numpy>=1.24.4 in c:\\users\\vietv\\appdata\\local\\programs\\python\\python310\\lib\\site-packages (from albumentations) (1.26.4)\n",
      "Requirement already satisfied: PyYAML in c:\\users\\vietv\\appdata\\local\\programs\\python\\python310\\lib\\site-packages (from albumentations) (6.0.2)\n",
      "Collecting opencv-python-headless>=4.9.0.80\n",
      "  Downloading opencv_python_headless-4.11.0.86-cp37-abi3-win_amd64.whl (39.4 MB)\n",
      "Collecting pydantic>=2.9.2\n",
      "  Downloading pydantic-2.11.7-py3-none-any.whl (444 kB)\n",
      "Requirement already satisfied: scipy>=1.10.0 in c:\\users\\vietv\\appdata\\local\\programs\\python\\python310\\lib\\site-packages (from albumentations) (1.15.2)\n",
      "Collecting simsimd>=5.9.2\n",
      "  Downloading simsimd-6.4.9-cp310-cp310-win_amd64.whl (94 kB)\n",
      "Collecting stringzilla>=3.10.4\n",
      "  Downloading stringzilla-3.12.5-cp310-cp310-win_amd64.whl (80 kB)\n",
      "Collecting annotated-types>=0.6.0\n",
      "  Downloading annotated_types-0.7.0-py3-none-any.whl (13 kB)\n",
      "Collecting pydantic-core==2.33.2\n",
      "  Downloading pydantic_core-2.33.2-cp310-cp310-win_amd64.whl (2.0 MB)\n",
      "Collecting typing-inspection>=0.4.0\n",
      "  Downloading typing_inspection-0.4.1-py3-none-any.whl (14 kB)\n",
      "Requirement already satisfied: typing-extensions>=4.12.2 in c:\\users\\vietv\\appdata\\local\\programs\\python\\python310\\lib\\site-packages (from pydantic>=2.9.2->albumentations) (4.13.2)\n",
      "Installing collected packages: typing-inspection, stringzilla, simsimd, pydantic-core, opencv-python-headless, annotated-types, pydantic, albucore, albumentations\n",
      "Successfully installed albucore-0.0.24 albumentations-2.0.8 annotated-types-0.7.0 opencv-python-headless-4.11.0.86 pydantic-2.11.7 pydantic-core-2.33.2 simsimd-6.4.9 stringzilla-3.12.5 typing-inspection-0.4.1\n",
      "Note: you may need to restart the kernel to use updated packages.\n"
     ]
    },
    {
     "name": "stderr",
     "output_type": "stream",
     "text": [
      "WARNING: You are using pip version 21.2.3; however, version 25.1.1 is available.\n",
      "You should consider upgrading via the 'c:\\Users\\vietv\\AppData\\Local\\Programs\\Python\\Python310\\python.exe -m pip install --upgrade pip' command.\n"
     ]
    }
   ],
   "source": [
    "%pip install albumentations\n"
   ]
  }
 ],
 "metadata": {
  "kernelspec": {
   "display_name": "Python 3",
   "language": "python",
   "name": "python3"
  },
  "language_info": {
   "codemirror_mode": {
    "name": "ipython",
    "version": 3
   },
   "file_extension": ".py",
   "mimetype": "text/x-python",
   "name": "python",
   "nbconvert_exporter": "python",
   "pygments_lexer": "ipython3",
   "version": "3.10.0"
  }
 },
 "nbformat": 4,
 "nbformat_minor": 5
}
